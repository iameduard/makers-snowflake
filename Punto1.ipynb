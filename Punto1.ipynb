{
 "cells": [
  {
   "cell_type": "code",
   "execution_count": 1,
   "metadata": {},
   "outputs": [],
   "source": [
    "import pandas as pd\n",
    "import matplotlib.pyplot as plt\n",
    "import snowflake.connector\n",
    "import csv"
   ]
  },
  {
   "cell_type": "code",
   "execution_count": 3,
   "metadata": {},
   "outputs": [],
   "source": [
    "def read_file(file):\n",
    "    data = dict((('Date',[]),\n",
    "              ('open',[]),\n",
    "              ('high',[]),\n",
    "              ('low',[]),\n",
    "              ('close',[]),\n",
    "              ('adj_close',[]),\n",
    "              ('volume',[])\n",
    "             ))\n",
    "    with open(file) as csvfile:\n",
    "        csv_reader = csv.reader(csvfile,delimiter=',')\n",
    "        next(csv_reader)\n",
    "        for row in csv_reader:\n",
    "            data['Date'].append(row[0])\n",
    "            data['open'].append(float(row[1]))\n",
    "            data['high'].append(float(row[2]))\n",
    "            data['low'].append(float(row[3]))\n",
    "            data['close'].append(float(row[4]))\n",
    "            data['adj_close'].append(float(row[5]))\n",
    "            data['volume'].append(float(row[6]))\n",
    "    return pd.DataFrame(data)"
   ]
  },
  {
   "cell_type": "markdown",
   "metadata": {},
   "source": [
    "## Extraer registros desde la fuente ..."
   ]
  },
  {
   "cell_type": "code",
   "execution_count": 5,
   "metadata": {},
   "outputs": [],
   "source": [
    "tesla = read_file('TSLA.csv')"
   ]
  },
  {
   "cell_type": "code",
   "execution_count": 6,
   "metadata": {},
   "outputs": [
    {
     "data": {
      "text/html": [
       "<div>\n",
       "<style scoped>\n",
       "    .dataframe tbody tr th:only-of-type {\n",
       "        vertical-align: middle;\n",
       "    }\n",
       "\n",
       "    .dataframe tbody tr th {\n",
       "        vertical-align: top;\n",
       "    }\n",
       "\n",
       "    .dataframe thead th {\n",
       "        text-align: right;\n",
       "    }\n",
       "</style>\n",
       "<table border=\"1\" class=\"dataframe\">\n",
       "  <thead>\n",
       "    <tr style=\"text-align: right;\">\n",
       "      <th></th>\n",
       "      <th>Date</th>\n",
       "      <th>open</th>\n",
       "      <th>high</th>\n",
       "      <th>low</th>\n",
       "      <th>close</th>\n",
       "      <th>adj_close</th>\n",
       "      <th>volume</th>\n",
       "    </tr>\n",
       "  </thead>\n",
       "  <tbody>\n",
       "    <tr>\n",
       "      <th>0</th>\n",
       "      <td>2020-02-24</td>\n",
       "      <td>167.800003</td>\n",
       "      <td>172.699997</td>\n",
       "      <td>164.440002</td>\n",
       "      <td>166.757996</td>\n",
       "      <td>166.757996</td>\n",
       "      <td>75961000.0</td>\n",
       "    </tr>\n",
       "    <tr>\n",
       "      <th>1</th>\n",
       "      <td>2020-02-25</td>\n",
       "      <td>169.800003</td>\n",
       "      <td>171.320007</td>\n",
       "      <td>157.399994</td>\n",
       "      <td>159.981995</td>\n",
       "      <td>159.981995</td>\n",
       "      <td>86452500.0</td>\n",
       "    </tr>\n",
       "    <tr>\n",
       "      <th>2</th>\n",
       "      <td>2020-02-26</td>\n",
       "      <td>156.500000</td>\n",
       "      <td>162.662003</td>\n",
       "      <td>155.222000</td>\n",
       "      <td>155.759995</td>\n",
       "      <td>155.759995</td>\n",
       "      <td>70427500.0</td>\n",
       "    </tr>\n",
       "    <tr>\n",
       "      <th>3</th>\n",
       "      <td>2020-02-27</td>\n",
       "      <td>146.000000</td>\n",
       "      <td>147.953995</td>\n",
       "      <td>133.800003</td>\n",
       "      <td>135.800003</td>\n",
       "      <td>135.800003</td>\n",
       "      <td>121386000.0</td>\n",
       "    </tr>\n",
       "    <tr>\n",
       "      <th>4</th>\n",
       "      <td>2020-02-28</td>\n",
       "      <td>125.940002</td>\n",
       "      <td>138.104004</td>\n",
       "      <td>122.304001</td>\n",
       "      <td>133.598007</td>\n",
       "      <td>133.598007</td>\n",
       "      <td>122821000.0</td>\n",
       "    </tr>\n",
       "  </tbody>\n",
       "</table>\n",
       "</div>"
      ],
      "text/plain": [
       "         Date        open        high         low       close   adj_close  \\\n",
       "0  2020-02-24  167.800003  172.699997  164.440002  166.757996  166.757996   \n",
       "1  2020-02-25  169.800003  171.320007  157.399994  159.981995  159.981995   \n",
       "2  2020-02-26  156.500000  162.662003  155.222000  155.759995  155.759995   \n",
       "3  2020-02-27  146.000000  147.953995  133.800003  135.800003  135.800003   \n",
       "4  2020-02-28  125.940002  138.104004  122.304001  133.598007  133.598007   \n",
       "\n",
       "        volume  \n",
       "0   75961000.0  \n",
       "1   86452500.0  \n",
       "2   70427500.0  \n",
       "3  121386000.0  \n",
       "4  122821000.0  "
      ]
     },
     "execution_count": 6,
     "metadata": {},
     "output_type": "execute_result"
    }
   ],
   "source": [
    "tesla.head()"
   ]
  },
  {
   "cell_type": "code",
   "execution_count": 7,
   "metadata": {},
   "outputs": [],
   "source": [
    "aapl = read_file('AAPL.csv')"
   ]
  },
  {
   "cell_type": "code",
   "execution_count": 8,
   "metadata": {},
   "outputs": [
    {
     "data": {
      "text/html": [
       "<div>\n",
       "<style scoped>\n",
       "    .dataframe tbody tr th:only-of-type {\n",
       "        vertical-align: middle;\n",
       "    }\n",
       "\n",
       "    .dataframe tbody tr th {\n",
       "        vertical-align: top;\n",
       "    }\n",
       "\n",
       "    .dataframe thead th {\n",
       "        text-align: right;\n",
       "    }\n",
       "</style>\n",
       "<table border=\"1\" class=\"dataframe\">\n",
       "  <thead>\n",
       "    <tr style=\"text-align: right;\">\n",
       "      <th></th>\n",
       "      <th>Date</th>\n",
       "      <th>open</th>\n",
       "      <th>high</th>\n",
       "      <th>low</th>\n",
       "      <th>close</th>\n",
       "      <th>adj_close</th>\n",
       "      <th>volume</th>\n",
       "    </tr>\n",
       "  </thead>\n",
       "  <tbody>\n",
       "    <tr>\n",
       "      <th>0</th>\n",
       "      <td>2020-02-24</td>\n",
       "      <td>74.315002</td>\n",
       "      <td>76.044998</td>\n",
       "      <td>72.307503</td>\n",
       "      <td>74.544998</td>\n",
       "      <td>73.971603</td>\n",
       "      <td>222195200.0</td>\n",
       "    </tr>\n",
       "    <tr>\n",
       "      <th>1</th>\n",
       "      <td>2020-02-25</td>\n",
       "      <td>75.237503</td>\n",
       "      <td>75.632500</td>\n",
       "      <td>71.532501</td>\n",
       "      <td>72.019997</td>\n",
       "      <td>71.466019</td>\n",
       "      <td>230673600.0</td>\n",
       "    </tr>\n",
       "    <tr>\n",
       "      <th>2</th>\n",
       "      <td>2020-02-26</td>\n",
       "      <td>71.632500</td>\n",
       "      <td>74.470001</td>\n",
       "      <td>71.625000</td>\n",
       "      <td>73.162498</td>\n",
       "      <td>72.599739</td>\n",
       "      <td>198054800.0</td>\n",
       "    </tr>\n",
       "    <tr>\n",
       "      <th>3</th>\n",
       "      <td>2020-02-27</td>\n",
       "      <td>70.275002</td>\n",
       "      <td>71.500000</td>\n",
       "      <td>68.239998</td>\n",
       "      <td>68.379997</td>\n",
       "      <td>67.854019</td>\n",
       "      <td>320605600.0</td>\n",
       "    </tr>\n",
       "    <tr>\n",
       "      <th>4</th>\n",
       "      <td>2020-02-28</td>\n",
       "      <td>64.315002</td>\n",
       "      <td>69.602501</td>\n",
       "      <td>64.092499</td>\n",
       "      <td>68.339996</td>\n",
       "      <td>67.814331</td>\n",
       "      <td>426884800.0</td>\n",
       "    </tr>\n",
       "  </tbody>\n",
       "</table>\n",
       "</div>"
      ],
      "text/plain": [
       "         Date       open       high        low      close  adj_close  \\\n",
       "0  2020-02-24  74.315002  76.044998  72.307503  74.544998  73.971603   \n",
       "1  2020-02-25  75.237503  75.632500  71.532501  72.019997  71.466019   \n",
       "2  2020-02-26  71.632500  74.470001  71.625000  73.162498  72.599739   \n",
       "3  2020-02-27  70.275002  71.500000  68.239998  68.379997  67.854019   \n",
       "4  2020-02-28  64.315002  69.602501  64.092499  68.339996  67.814331   \n",
       "\n",
       "        volume  \n",
       "0  222195200.0  \n",
       "1  230673600.0  \n",
       "2  198054800.0  \n",
       "3  320605600.0  \n",
       "4  426884800.0  "
      ]
     },
     "execution_count": 8,
     "metadata": {},
     "output_type": "execute_result"
    }
   ],
   "source": [
    "aapl.head()"
   ]
  },
  {
   "cell_type": "code",
   "execution_count": 9,
   "metadata": {},
   "outputs": [],
   "source": [
    "msft = read_file('MSFT.csv')"
   ]
  },
  {
   "cell_type": "code",
   "execution_count": 10,
   "metadata": {},
   "outputs": [
    {
     "data": {
      "text/html": [
       "<div>\n",
       "<style scoped>\n",
       "    .dataframe tbody tr th:only-of-type {\n",
       "        vertical-align: middle;\n",
       "    }\n",
       "\n",
       "    .dataframe tbody tr th {\n",
       "        vertical-align: top;\n",
       "    }\n",
       "\n",
       "    .dataframe thead th {\n",
       "        text-align: right;\n",
       "    }\n",
       "</style>\n",
       "<table border=\"1\" class=\"dataframe\">\n",
       "  <thead>\n",
       "    <tr style=\"text-align: right;\">\n",
       "      <th></th>\n",
       "      <th>Date</th>\n",
       "      <th>open</th>\n",
       "      <th>high</th>\n",
       "      <th>low</th>\n",
       "      <th>close</th>\n",
       "      <th>adj_close</th>\n",
       "      <th>volume</th>\n",
       "    </tr>\n",
       "  </thead>\n",
       "  <tbody>\n",
       "    <tr>\n",
       "      <th>0</th>\n",
       "      <td>2020-02-24</td>\n",
       "      <td>167.770004</td>\n",
       "      <td>174.550003</td>\n",
       "      <td>163.229996</td>\n",
       "      <td>170.889999</td>\n",
       "      <td>169.170883</td>\n",
       "      <td>68311100.0</td>\n",
       "    </tr>\n",
       "    <tr>\n",
       "      <th>1</th>\n",
       "      <td>2020-02-25</td>\n",
       "      <td>174.199997</td>\n",
       "      <td>174.839996</td>\n",
       "      <td>167.649994</td>\n",
       "      <td>168.070007</td>\n",
       "      <td>166.379257</td>\n",
       "      <td>68073300.0</td>\n",
       "    </tr>\n",
       "    <tr>\n",
       "      <th>2</th>\n",
       "      <td>2020-02-26</td>\n",
       "      <td>169.710007</td>\n",
       "      <td>173.259995</td>\n",
       "      <td>168.210007</td>\n",
       "      <td>170.169998</td>\n",
       "      <td>168.458115</td>\n",
       "      <td>56206100.0</td>\n",
       "    </tr>\n",
       "    <tr>\n",
       "      <th>3</th>\n",
       "      <td>2020-02-27</td>\n",
       "      <td>163.320007</td>\n",
       "      <td>167.029999</td>\n",
       "      <td>157.979996</td>\n",
       "      <td>158.179993</td>\n",
       "      <td>156.588730</td>\n",
       "      <td>93174900.0</td>\n",
       "    </tr>\n",
       "    <tr>\n",
       "      <th>4</th>\n",
       "      <td>2020-02-28</td>\n",
       "      <td>152.410004</td>\n",
       "      <td>163.710007</td>\n",
       "      <td>152.000000</td>\n",
       "      <td>162.009995</td>\n",
       "      <td>160.380188</td>\n",
       "      <td>97073600.0</td>\n",
       "    </tr>\n",
       "  </tbody>\n",
       "</table>\n",
       "</div>"
      ],
      "text/plain": [
       "         Date        open        high         low       close   adj_close  \\\n",
       "0  2020-02-24  167.770004  174.550003  163.229996  170.889999  169.170883   \n",
       "1  2020-02-25  174.199997  174.839996  167.649994  168.070007  166.379257   \n",
       "2  2020-02-26  169.710007  173.259995  168.210007  170.169998  168.458115   \n",
       "3  2020-02-27  163.320007  167.029999  157.979996  158.179993  156.588730   \n",
       "4  2020-02-28  152.410004  163.710007  152.000000  162.009995  160.380188   \n",
       "\n",
       "       volume  \n",
       "0  68311100.0  \n",
       "1  68073300.0  \n",
       "2  56206100.0  \n",
       "3  93174900.0  \n",
       "4  97073600.0  "
      ]
     },
     "execution_count": 10,
     "metadata": {},
     "output_type": "execute_result"
    }
   ],
   "source": [
    "msft.head()"
   ]
  },
  {
   "cell_type": "markdown",
   "metadata": {},
   "source": [
    "### Se crea una columna para diferenciar el simbolo o el mercado bajo estudio..."
   ]
  },
  {
   "cell_type": "code",
   "execution_count": 11,
   "metadata": {},
   "outputs": [],
   "source": [
    "tesla['simbolo']= 'tesla'\n",
    "aapl['simbolo'] = 'aapl'\n",
    "msft['simbolo'] = 'msft'"
   ]
  },
  {
   "cell_type": "markdown",
   "metadata": {},
   "source": [
    "## Transformacion de los Datos para normalizarlos y poderlos comparar.."
   ]
  },
  {
   "cell_type": "code",
   "execution_count": 12,
   "metadata": {},
   "outputs": [],
   "source": [
    "tesla['adj_close'] = tesla['adj_close']/tesla.loc[0,'adj_close']\n",
    "\n",
    "aapl['adj_close'] = aapl['adj_close']/aapl.loc[0,'adj_close']\n",
    "\n",
    "msft['adj_close'] = msft['adj_close']/msft.loc[0,'adj_close']"
   ]
  },
  {
   "cell_type": "code",
   "execution_count": 13,
   "metadata": {},
   "outputs": [],
   "source": [
    "tesla['volume'] = tesla['volume']/tesla.loc[0,'volume']\n",
    "\n",
    "aapl['volume'] = aapl['volume']/aapl.loc[0,'volume']\n",
    "\n",
    "msft['volume'] = msft['volume']/msft.loc[0,'volume']"
   ]
  },
  {
   "cell_type": "code",
   "execution_count": 14,
   "metadata": {},
   "outputs": [],
   "source": [
    "datamart = pd.concat([tesla,aapl,msft])"
   ]
  },
  {
   "cell_type": "code",
   "execution_count": 15,
   "metadata": {},
   "outputs": [
    {
     "data": {
      "text/html": [
       "<div>\n",
       "<style scoped>\n",
       "    .dataframe tbody tr th:only-of-type {\n",
       "        vertical-align: middle;\n",
       "    }\n",
       "\n",
       "    .dataframe tbody tr th {\n",
       "        vertical-align: top;\n",
       "    }\n",
       "\n",
       "    .dataframe thead th {\n",
       "        text-align: right;\n",
       "    }\n",
       "</style>\n",
       "<table border=\"1\" class=\"dataframe\">\n",
       "  <thead>\n",
       "    <tr style=\"text-align: right;\">\n",
       "      <th></th>\n",
       "      <th>Date</th>\n",
       "      <th>open</th>\n",
       "      <th>high</th>\n",
       "      <th>low</th>\n",
       "      <th>close</th>\n",
       "      <th>adj_close</th>\n",
       "      <th>volume</th>\n",
       "      <th>simbolo</th>\n",
       "    </tr>\n",
       "  </thead>\n",
       "  <tbody>\n",
       "    <tr>\n",
       "      <th>0</th>\n",
       "      <td>2020-02-24</td>\n",
       "      <td>167.800003</td>\n",
       "      <td>172.699997</td>\n",
       "      <td>164.440002</td>\n",
       "      <td>166.757996</td>\n",
       "      <td>1.000000</td>\n",
       "      <td>1.000000</td>\n",
       "      <td>tesla</td>\n",
       "    </tr>\n",
       "    <tr>\n",
       "      <th>1</th>\n",
       "      <td>2020-02-25</td>\n",
       "      <td>169.800003</td>\n",
       "      <td>171.320007</td>\n",
       "      <td>157.399994</td>\n",
       "      <td>159.981995</td>\n",
       "      <td>0.959366</td>\n",
       "      <td>1.138117</td>\n",
       "      <td>tesla</td>\n",
       "    </tr>\n",
       "    <tr>\n",
       "      <th>2</th>\n",
       "      <td>2020-02-26</td>\n",
       "      <td>156.500000</td>\n",
       "      <td>162.662003</td>\n",
       "      <td>155.222000</td>\n",
       "      <td>155.759995</td>\n",
       "      <td>0.934048</td>\n",
       "      <td>0.927153</td>\n",
       "      <td>tesla</td>\n",
       "    </tr>\n",
       "    <tr>\n",
       "      <th>3</th>\n",
       "      <td>2020-02-27</td>\n",
       "      <td>146.000000</td>\n",
       "      <td>147.953995</td>\n",
       "      <td>133.800003</td>\n",
       "      <td>135.800003</td>\n",
       "      <td>0.814354</td>\n",
       "      <td>1.598004</td>\n",
       "      <td>tesla</td>\n",
       "    </tr>\n",
       "    <tr>\n",
       "      <th>4</th>\n",
       "      <td>2020-02-28</td>\n",
       "      <td>125.940002</td>\n",
       "      <td>138.104004</td>\n",
       "      <td>122.304001</td>\n",
       "      <td>133.598007</td>\n",
       "      <td>0.801149</td>\n",
       "      <td>1.616896</td>\n",
       "      <td>tesla</td>\n",
       "    </tr>\n",
       "  </tbody>\n",
       "</table>\n",
       "</div>"
      ],
      "text/plain": [
       "         Date        open        high         low       close  adj_close  \\\n",
       "0  2020-02-24  167.800003  172.699997  164.440002  166.757996   1.000000   \n",
       "1  2020-02-25  169.800003  171.320007  157.399994  159.981995   0.959366   \n",
       "2  2020-02-26  156.500000  162.662003  155.222000  155.759995   0.934048   \n",
       "3  2020-02-27  146.000000  147.953995  133.800003  135.800003   0.814354   \n",
       "4  2020-02-28  125.940002  138.104004  122.304001  133.598007   0.801149   \n",
       "\n",
       "     volume simbolo  \n",
       "0  1.000000   tesla  \n",
       "1  1.138117   tesla  \n",
       "2  0.927153   tesla  \n",
       "3  1.598004   tesla  \n",
       "4  1.616896   tesla  "
      ]
     },
     "execution_count": 15,
     "metadata": {},
     "output_type": "execute_result"
    }
   ],
   "source": [
    "datamart.head()"
   ]
  },
  {
   "cell_type": "markdown",
   "metadata": {},
   "source": [
    "## Coneccion a Snowflake para crear el DW ..."
   ]
  },
  {
   "cell_type": "code",
   "execution_count": 16,
   "metadata": {},
   "outputs": [],
   "source": [
    "cnn = snowflake.connector.connect(\n",
    "    user = 'EDUJIMENEZ64',\n",
    "    password = 'Salva.1208',\n",
    "    account = 'jo45461.us-central1.gcp'\n",
    ")\n",
    "\n",
    "cs = cnn.cursor()"
   ]
  },
  {
   "cell_type": "code",
   "execution_count": 17,
   "metadata": {},
   "outputs": [
    {
     "name": "stdout",
     "output_type": "stream",
     "text": [
      "5.37.2\n"
     ]
    }
   ],
   "source": [
    "cs.execute('Select current_version()')\n",
    "row = cs.fetchone()\n",
    "print(row[0])"
   ]
  },
  {
   "cell_type": "code",
   "execution_count": 18,
   "metadata": {},
   "outputs": [
    {
     "name": "stdout",
     "output_type": "stream",
     "text": [
      "Warehouse created\n"
     ]
    }
   ],
   "source": [
    "sql = \"CREATE WAREHOUSE IF NOT EXISTS project_warehouse\"\n",
    "cs.execute(sql)\n",
    "print('Warehouse created')"
   ]
  },
  {
   "cell_type": "code",
   "execution_count": 19,
   "metadata": {},
   "outputs": [
    {
     "name": "stdout",
     "output_type": "stream",
     "text": [
      "Database created\n"
     ]
    }
   ],
   "source": [
    "sql = \"CREATE DATABASE IF NOT EXISTS project_database\"\n",
    "cs.execute(sql)\n",
    "print('Database created')"
   ]
  },
  {
   "cell_type": "code",
   "execution_count": 20,
   "metadata": {},
   "outputs": [
    {
     "name": "stdout",
     "output_type": "stream",
     "text": [
      "connecto to database\n"
     ]
    }
   ],
   "source": [
    "sql = \"USE DATABASE project_database\"\n",
    "cs.execute(sql)\n",
    "print('connecto to database')"
   ]
  },
  {
   "cell_type": "code",
   "execution_count": 21,
   "metadata": {},
   "outputs": [
    {
     "name": "stdout",
     "output_type": "stream",
     "text": [
      "create schema\n"
     ]
    }
   ],
   "source": [
    "sql = \"CREATE SCHEMA IF NOT EXISTS project_schema\"\n",
    "cs.execute(sql)\n",
    "print('create schema')"
   ]
  },
  {
   "cell_type": "code",
   "execution_count": 22,
   "metadata": {},
   "outputs": [
    {
     "name": "stdout",
     "output_type": "stream",
     "text": [
      "use warehouse\n"
     ]
    }
   ],
   "source": [
    "sql = \"USE WAREHOUSE project_warehouse\"\n",
    "cs.execute(sql)\n",
    "print('use warehouse')"
   ]
  },
  {
   "cell_type": "code",
   "execution_count": 23,
   "metadata": {},
   "outputs": [
    {
     "name": "stdout",
     "output_type": "stream",
     "text": [
      "connecto to database\n"
     ]
    }
   ],
   "source": [
    "sql = \"USE DATABASE project_database\"\n",
    "cs.execute(sql)\n",
    "print('connecto to database')"
   ]
  },
  {
   "cell_type": "code",
   "execution_count": 24,
   "metadata": {},
   "outputs": [
    {
     "name": "stdout",
     "output_type": "stream",
     "text": [
      "connecto to schema\n"
     ]
    }
   ],
   "source": [
    "sql = \"USE SCHEMA project_schema\"\n",
    "cs.execute(sql)\n",
    "print('connecto to schema')"
   ]
  },
  {
   "cell_type": "code",
   "execution_count": 25,
   "metadata": {},
   "outputs": [
    {
     "name": "stdout",
     "output_type": "stream",
     "text": [
      "create project_stock table\n"
     ]
    }
   ],
   "source": [
    "sql = (\"CREATE OR REPLACE TABLE project_stock\"\n",
    "        \"(FECHA DATE, SIMBOLO TEXT(5), OPEN DEC(20,10), HIGH DEC(20,10), LOW DEC(20,10), CLOSE DEC(20,10), ADJ_CLOSE DEC(20,10), VOLUME DEC(20,10) )\")\n",
    "cs.execute(sql)\n",
    "print('create project_stock table')"
   ]
  },
  {
   "cell_type": "code",
   "execution_count": 26,
   "metadata": {},
   "outputs": [],
   "source": [
    "datamart.reset_index(inplace=True)"
   ]
  },
  {
   "cell_type": "markdown",
   "metadata": {},
   "source": [
    "# Carga de registros al DW de Snowflake ..."
   ]
  },
  {
   "cell_type": "code",
   "execution_count": 27,
   "metadata": {},
   "outputs": [],
   "source": [
    "for id in datamart.index:\n",
    "    date = datamart.loc[id,'Date']\n",
    "    simbolo = datamart.loc[id,'simbolo']\n",
    "    open_ = datamart.loc[id,'open']\n",
    "    high = datamart.loc[id,'high']\n",
    "    low = datamart.loc[id,'low']\n",
    "    close = datamart.loc[id,'close']\n",
    "    adj_close = datamart.loc[id,'adj_close']\n",
    "    volume = datamart.loc[id,'volume']\n",
    "    valor = f\"VALUES ('{date}','{simbolo}',{open_},{high},{low},{close},{adj_close},{volume})\"\n",
    "    sql = (\"INSERT INTO project_stock (FECHA, SIMBOLO, OPEN, HIGH, LOW, CLOSE, ADJ_CLOSE, VOLUME)\"\n",
    "           f\"{valor}\")\n",
    "    cs.execute(sql)"
   ]
  },
  {
   "cell_type": "code",
   "execution_count": 28,
   "metadata": {},
   "outputs": [
    {
     "data": {
      "text/plain": [
       "<snowflake.connector.cursor.SnowflakeCursor at 0x1fc1a912940>"
      ]
     },
     "execution_count": 28,
     "metadata": {},
     "output_type": "execute_result"
    }
   ],
   "source": [
    "sql = \"SELECT count(*) FROM project_stock\"\n",
    "cs.execute(sql)"
   ]
  },
  {
   "cell_type": "code",
   "execution_count": null,
   "metadata": {},
   "outputs": [],
   "source": [
    "sql = \"SELECT simbolo, fecha, adj_close, volume FROM project_stock\"\n",
    "cs.execute(sql)"
   ]
  },
  {
   "cell_type": "code",
   "execution_count": 46,
   "metadata": {},
   "outputs": [
    {
     "data": {
      "text/plain": [
       "<snowflake.connector.cursor.SnowflakeCursor at 0x1fc1a912940>"
      ]
     },
     "execution_count": 46,
     "metadata": {},
     "output_type": "execute_result"
    }
   ],
   "source": [
    "sql = \"SELECT simbolo, adj_close, volume FROM project_stock\"\n",
    "cs.execute(sql)"
   ]
  },
  {
   "cell_type": "code",
   "execution_count": 47,
   "metadata": {},
   "outputs": [],
   "source": [
    "adj_close = {'tesla':[],'aapl':[],'msft':[]}\n",
    "volume = {'tesla':[],'aapl':[],'msft':[]}\n",
    "\n",
    "for row in cs.fetchall():\n",
    "    adj_close[row[0]].append(row[1])\n",
    "    volume[row[0]].append(row[2])"
   ]
  },
  {
   "cell_type": "code",
   "execution_count": 52,
   "metadata": {},
   "outputs": [
    {
     "data": {
      "text/plain": [
       "<matplotlib.axes._subplots.AxesSubplot at 0x1fc1b54f358>"
      ]
     },
     "execution_count": 52,
     "metadata": {},
     "output_type": "execute_result"
    },
    {
     "data": {
      "image/png": "[encoded data removed]",
      "text/plain": [
       "<Figure size 432x288 with 1 Axes>"
      ]
     },
     "metadata": {},
     "output_type": "display_data"
    }
   ],
   "source": [
    "pd.DataFrame(adj_close).astype('float').plot(title='Crecimiento de precio al cierre ajustado')"
   ]
  },
  {
   "cell_type": "markdown",
   "metadata": {},
   "source": [
    "1- Se observa claramente que las acciones de tesla han mostrado un crecimiento muchisimo mayor que las dos anteriores\n",
    "2- La acciones de Microsoft muestra una tendencia mas estable en el tiempo"
   ]
  },
  {
   "cell_type": "code",
   "execution_count": 53,
   "metadata": {},
   "outputs": [
    {
     "data": {
      "text/plain": [
       "<matplotlib.axes._subplots.AxesSubplot at 0x1fc1b62f3c8>"
      ]
     },
     "execution_count": 53,
     "metadata": {},
     "output_type": "execute_result"
    },
    {
     "data": {
      "image/png": "[encoded data removed]",
      "text/plain": [
       "<Figure size 432x288 with 1 Axes>"
      ]
     },
     "metadata": {},
     "output_type": "display_data"
    }
   ],
   "source": [
    "pd.DataFrame(volume).astype('float').plot(title='Crecimiento de volumen de transacciones')"
   ]
  },
  {
   "cell_type": "markdown",
   "metadata": {},
   "source": [
    "3- El volumen de transaciones de las acciones tiende a reducirse, se aprecian unos picos en especial en las acciones de tesla"
   ]
  },
  {
   "cell_type": "code",
   "execution_count": null,
   "metadata": {},
   "outputs": [],
   "source": [
    "cs.close()"
   ]
  },
  {
   "cell_type": "code",
   "execution_count": null,
   "metadata": {},
   "outputs": [],
   "source": [
    "cnn.close()"
   ]
  }
 ],
 "metadata": {
  "kernelspec": {
   "display_name": "Python 3",
   "language": "python",
   "name": "python3"
  },
  "language_info": {
   "codemirror_mode": {
    "name": "ipython",
    "version": 3
   },
   "file_extension": ".py",
   "mimetype": "text/x-python",
   "name": "python",
   "nbconvert_exporter": "python",
   "pygments_lexer": "ipython3",
   "version": "3.6.5"
  }
 },
 "nbformat": 4,
 "nbformat_minor": 2
}
